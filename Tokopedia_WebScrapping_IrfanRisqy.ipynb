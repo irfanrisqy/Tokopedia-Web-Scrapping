{
 "cells": [
  {
   "cell_type": "markdown",
   "metadata": {},
   "source": [
    "# A. Web Scraping"
   ]
  },
  {
   "cell_type": "code",
   "execution_count": 87,
   "metadata": {},
   "outputs": [
    {
     "data": {
      "text/plain": [
       "'\\n=================================================\\nGraded Challenge 3\\n\\nNama  : Irfan Risqy\\nBatch : BSD - 001\\n\\nProgram ini dibuat untuk melakukan analisa data menggunakan central tendency, std deviasi, uji Skewness dan Kurtosis, mencari lower dan upper, serta cek korelasi dari data hasil web scraping situs Tokopedia\\n=================================================\\n'"
      ]
     },
     "execution_count": 87,
     "metadata": {},
     "output_type": "execute_result"
    }
   ],
   "source": [
    "'''\n",
    "=================================================\n",
    "Graded Challenge 3\n",
    "\n",
    "Nama  : Irfan Risqy\n",
    "Batch : BSD - 001\n",
    "\n",
    "Program ini dibuat untuk melakukan analisa data menggunakan central tendency, std deviasi, uji Skewness dan Kurtosis, mencari lower dan upper, serta cek korelasi dari data hasil web scraping situs Tokopedia\n",
    "=================================================\n",
    "'''"
   ]
  },
  {
   "cell_type": "code",
   "execution_count": 20,
   "metadata": {},
   "outputs": [],
   "source": [
    "# Setup Library\n",
    "import requests\n",
    "import pandas as pd\n",
    "import time\n",
    "from bs4 import BeautifulSoup\n",
    "from selenium import webdriver\n",
    "from selenium.webdriver.support.ui import WebDriverWait\n",
    "from selenium.webdriver.support import expected_conditions\n",
    "from selenium.webdriver.common.by import By\n"
   ]
  },
  {
   "cell_type": "code",
   "execution_count": 21,
   "metadata": {},
   "outputs": [
    {
     "name": "stdout",
     "output_type": "stream",
     "text": [
      "<html data-rh=\"lang,translate\" lang=\"id\" translate=\"no\">\n",
      " <head>\n",
      "  <title>\n",
      "   Jual seblak | Tokopedia\n",
      "  </title>\n",
      "  <meta charset=\"utf-8\"/>\n",
      "  <meta content=\"initial-scale=1, minimum-scale=1, maximum-scale=5, user-scalable=yes, width=device-width\" name=\"viewport\"/>\n",
      "  <link crossorigin=\"\" href=\"https://assets.tokopedia.net\" rel=\"preconnect\"/>\n",
      "  <link href=\"https://assets.tokopedia.net\" nonce=\"\" rel=\"dns-prefetch\"/>\n",
      "  <link crossorigin=\"\" href=\"https://gql.tokopedia.com\" rel=\"preconnect\"/>\n",
      "  <link href=\"https://gql.tokopedia.com\" nonce=\"\" rel=\"dns-prefetch\"/>\n",
      "  <link crossorigin=\"\" href=\"https://googleads.g.doubleclick.net\" rel=\"preconnect\"/>\n",
      "  <link href=\"https://googleads.g.doubleclick.net\" no\n"
     ]
    }
   ],
   "source": [
    "\n",
    "driver = webdriver.Chrome()\n",
    "\n",
    "url=\"https://www.tokopedia.com/search?navsource=&page=1&q=seblak&srp_component_id=02.01.00.00&srp_page_id=&srp_page_title=&st=\"\n",
    "driver.get(url)\n",
    "html = driver.page_source\n",
    "\n",
    "soup = BeautifulSoup(driver.page_source, \"html.parser\")\n",
    "print(soup.prettify()[:700])"
   ]
  },
  {
   "cell_type": "code",
   "execution_count": 22,
   "metadata": {},
   "outputs": [],
   "source": [
    "# Proses Web Scraping Produk Seblak dari Tokopedia\n",
    "from selenium import webdriver\n",
    "from bs4 import BeautifulSoup\n",
    "import pandas as pd\n",
    "import time\n",
    "\n",
    "data = []\n",
    "\n",
    "driver = webdriver.Chrome()\n",
    "\n",
    "for i in range(1,11):\n",
    "    url = \"https://www.tokopedia.com/search?navsource=&page={}&q=seblak&srp_component_id=02.01.00.00&srp_page_id=&srp_page_title=&st=\".format(i)\n",
    "    driver.get(url)\n",
    "    html = driver.page_source\n",
    "    soup = BeautifulSoup(html, \"html.parser\")\n",
    "    time.sleep(2)\n",
    "    \n",
    "    for item in soup.findAll('div','css-uwyh54')[:10]:\n",
    "        nama_produk = item.find('div','css-3um8ox').text\n",
    "        harga_produk = item.find('div','css-1ksb19c').text\n",
    "\n",
    "        for item1 in item.findAll('div','css-1rn0irl'):\n",
    "            penjual = item1.findAll('span','css-1kdc32b')[1].text\n",
    "            kota_toko = item1.findAll('span','css-1kdc32b')[0].text\n",
    "        \n",
    "        terjual= item.findAll('span','css-1duhs3e')\n",
    "        if len(terjual)>0:\n",
    "            banyak_terjual = item.find('span','css-1duhs3e').text\n",
    "        else:\n",
    "            banyak_terjual = None \n",
    "\n",
    "        rating=  item.findAll('span','css-t70v7i')\n",
    "        if len(rating)>0:\n",
    "            rating_produk = item.find('span','css-t70v7i').text\n",
    "        else:\n",
    "            rating_produk = None\n",
    "    \n",
    "        data.append((nama_produk, harga_produk, penjual, kota_toko, banyak_terjual, rating_produk))\n",
    "\n",
    "driver.quit()\n",
    "\n",
    "df = pd.DataFrame(data, columns = ['nama_produk', 'harga_produk', 'penjual', 'kota_toko', 'terjual', 'rating_produk'])"
   ]
  },
  {
   "cell_type": "code",
   "execution_count": 23,
   "metadata": {},
   "outputs": [
    {
     "data": {
      "text/html": [
       "<div>\n",
       "<style scoped>\n",
       "    .dataframe tbody tr th:only-of-type {\n",
       "        vertical-align: middle;\n",
       "    }\n",
       "\n",
       "    .dataframe tbody tr th {\n",
       "        vertical-align: top;\n",
       "    }\n",
       "\n",
       "    .dataframe thead th {\n",
       "        text-align: right;\n",
       "    }\n",
       "</style>\n",
       "<table border=\"1\" class=\"dataframe\">\n",
       "  <thead>\n",
       "    <tr style=\"text-align: right;\">\n",
       "      <th></th>\n",
       "      <th>nama_produk</th>\n",
       "      <th>harga_produk</th>\n",
       "      <th>penjual</th>\n",
       "      <th>kota_toko</th>\n",
       "      <th>terjual</th>\n",
       "      <th>rating_produk</th>\n",
       "    </tr>\n",
       "  </thead>\n",
       "  <tbody>\n",
       "    <tr>\n",
       "      <th>0</th>\n",
       "      <td>Mommy Seblak Basah Instant 100gr</td>\n",
       "      <td>Rp10.000</td>\n",
       "      <td>emmoshop</td>\n",
       "      <td>Kab. Bogor</td>\n",
       "      <td>Terjual 2 rb+</td>\n",
       "      <td>4.9</td>\n",
       "    </tr>\n",
       "    <tr>\n",
       "      <th>1</th>\n",
       "      <td>Seblak Instan Ceu Nthien Khas Bandung Rasana N...</td>\n",
       "      <td>Rp15.000</td>\n",
       "      <td>Central Seblak Nusantara</td>\n",
       "      <td>Tangerang Selatan</td>\n",
       "      <td>Terjual 1 rb+</td>\n",
       "      <td>4.9</td>\n",
       "    </tr>\n",
       "    <tr>\n",
       "      <th>2</th>\n",
       "      <td>SEBLAK INSTANT TERMURAH</td>\n",
       "      <td>Rp3.999</td>\n",
       "      <td>Pusat Cuankie &amp; Cemilan Frozen</td>\n",
       "      <td>Jakarta Timur</td>\n",
       "      <td>Terjual 10 rb+</td>\n",
       "      <td>4.8</td>\n",
       "    </tr>\n",
       "    <tr>\n",
       "      <th>3</th>\n",
       "      <td>seblak instant sajodo snak</td>\n",
       "      <td>Rp19.000</td>\n",
       "      <td>hikmah berkah jaya</td>\n",
       "      <td>Jakarta Barat</td>\n",
       "      <td>Terjual 750+</td>\n",
       "      <td>4.8</td>\n",
       "    </tr>\n",
       "    <tr>\n",
       "      <th>4</th>\n",
       "      <td>SEBLAK VIRAL - SEBLAK INSTANT - SEBLAK RAFAEL ...</td>\n",
       "      <td>Rp8.880</td>\n",
       "      <td>FARADHIFY STORE</td>\n",
       "      <td>Bekasi</td>\n",
       "      <td>Terjual 100+</td>\n",
       "      <td>4.8</td>\n",
       "    </tr>\n",
       "    <tr>\n",
       "      <th>...</th>\n",
       "      <td>...</td>\n",
       "      <td>...</td>\n",
       "      <td>...</td>\n",
       "      <td>...</td>\n",
       "      <td>...</td>\n",
       "      <td>...</td>\n",
       "    </tr>\n",
       "    <tr>\n",
       "      <th>95</th>\n",
       "      <td>cuanki tahu pasung isi 50 murah batagor kering...</td>\n",
       "      <td>Rp12.000</td>\n",
       "      <td>CuankiCulametan</td>\n",
       "      <td>Kab. Garut</td>\n",
       "      <td>Terjual 100+</td>\n",
       "      <td>4.9</td>\n",
       "    </tr>\n",
       "    <tr>\n",
       "      <th>96</th>\n",
       "      <td>KERUPUK SEBLAK 250gr / KRUPUK SEBLAK DAUN JERU...</td>\n",
       "      <td>Rp12.500</td>\n",
       "      <td>Dapur Sehat21</td>\n",
       "      <td>Kab. Bandung</td>\n",
       "      <td>Terjual 100+</td>\n",
       "      <td>4.9</td>\n",
       "    </tr>\n",
       "    <tr>\n",
       "      <th>97</th>\n",
       "      <td>Kerupuk Orange / Kerupuk Seblak 250gr / Kerupu...</td>\n",
       "      <td>Rp7.500</td>\n",
       "      <td>BawangBagus</td>\n",
       "      <td>Tangerang</td>\n",
       "      <td>Terjual 5</td>\n",
       "      <td>None</td>\n",
       "    </tr>\n",
       "    <tr>\n",
       "      <th>98</th>\n",
       "      <td>Seblak kuah instan , Seblak khas garut b</td>\n",
       "      <td>Rp5.000</td>\n",
       "      <td>iwan resistans leather 2</td>\n",
       "      <td>Kab. Garut</td>\n",
       "      <td>Terjual 500+</td>\n",
       "      <td>4.9</td>\n",
       "    </tr>\n",
       "    <tr>\n",
       "      <th>99</th>\n",
       "      <td>Paket seblak sosis untuk 3 porsi</td>\n",
       "      <td>Rp29.000</td>\n",
       "      <td>Tukangsayurmbakyu</td>\n",
       "      <td>Tangerang Selatan</td>\n",
       "      <td>Terjual 8</td>\n",
       "      <td>5.0</td>\n",
       "    </tr>\n",
       "  </tbody>\n",
       "</table>\n",
       "<p>100 rows × 6 columns</p>\n",
       "</div>"
      ],
      "text/plain": [
       "                                          nama_produk harga_produk  \\\n",
       "0                    Mommy Seblak Basah Instant 100gr     Rp10.000   \n",
       "1   Seblak Instan Ceu Nthien Khas Bandung Rasana N...     Rp15.000   \n",
       "2                             SEBLAK INSTANT TERMURAH      Rp3.999   \n",
       "3                          seblak instant sajodo snak     Rp19.000   \n",
       "4   SEBLAK VIRAL - SEBLAK INSTANT - SEBLAK RAFAEL ...      Rp8.880   \n",
       "..                                                ...          ...   \n",
       "95  cuanki tahu pasung isi 50 murah batagor kering...     Rp12.000   \n",
       "96  KERUPUK SEBLAK 250gr / KRUPUK SEBLAK DAUN JERU...     Rp12.500   \n",
       "97  Kerupuk Orange / Kerupuk Seblak 250gr / Kerupu...      Rp7.500   \n",
       "98           Seblak kuah instan , Seblak khas garut b      Rp5.000   \n",
       "99                   Paket seblak sosis untuk 3 porsi     Rp29.000   \n",
       "\n",
       "                           penjual          kota_toko         terjual  \\\n",
       "0                         emmoshop         Kab. Bogor   Terjual 2 rb+   \n",
       "1         Central Seblak Nusantara  Tangerang Selatan   Terjual 1 rb+   \n",
       "2   Pusat Cuankie & Cemilan Frozen      Jakarta Timur  Terjual 10 rb+   \n",
       "3               hikmah berkah jaya      Jakarta Barat    Terjual 750+   \n",
       "4                  FARADHIFY STORE             Bekasi    Terjual 100+   \n",
       "..                             ...                ...             ...   \n",
       "95                 CuankiCulametan         Kab. Garut    Terjual 100+   \n",
       "96                   Dapur Sehat21       Kab. Bandung    Terjual 100+   \n",
       "97                     BawangBagus          Tangerang       Terjual 5   \n",
       "98        iwan resistans leather 2         Kab. Garut    Terjual 500+   \n",
       "99               Tukangsayurmbakyu  Tangerang Selatan       Terjual 8   \n",
       "\n",
       "   rating_produk  \n",
       "0            4.9  \n",
       "1            4.9  \n",
       "2            4.8  \n",
       "3            4.8  \n",
       "4            4.8  \n",
       "..           ...  \n",
       "95           4.9  \n",
       "96           4.9  \n",
       "97          None  \n",
       "98           4.9  \n",
       "99           5.0  \n",
       "\n",
       "[100 rows x 6 columns]"
      ]
     },
     "execution_count": 23,
     "metadata": {},
     "output_type": "execute_result"
    }
   ],
   "source": [
    "df"
   ]
  },
  {
   "cell_type": "markdown",
   "metadata": {},
   "source": [
    "Dari proses web scraping yang sudah dilakukan, hasil yang didapatkan adalah 100 produk dari 10 halaman dimana perhalaman saya menetapkan limit sebanyak 10 produk."
   ]
  },
  {
   "cell_type": "markdown",
   "metadata": {},
   "source": [
    "# B. Data Preparation"
   ]
  },
  {
   "cell_type": "code",
   "execution_count": 24,
   "metadata": {},
   "outputs": [
    {
     "name": "stdout",
     "output_type": "stream",
     "text": [
      "<class 'pandas.core.frame.DataFrame'>\n",
      "RangeIndex: 100 entries, 0 to 99\n",
      "Data columns (total 6 columns):\n",
      " #   Column         Non-Null Count  Dtype \n",
      "---  ------         --------------  ----- \n",
      " 0   nama_produk    100 non-null    object\n",
      " 1   harga_produk   100 non-null    object\n",
      " 2   penjual        100 non-null    object\n",
      " 3   kota_toko      100 non-null    object\n",
      " 4   terjual        91 non-null     object\n",
      " 5   rating_produk  88 non-null     object\n",
      "dtypes: object(6)\n",
      "memory usage: 4.8+ KB\n"
     ]
    }
   ],
   "source": [
    "# Mencari info dari dataframe yang telah dibuat dari hasil scraping.\n",
    "df.info()"
   ]
  },
  {
   "cell_type": "code",
   "execution_count": 26,
   "metadata": {},
   "outputs": [
    {
     "name": "stdout",
     "output_type": "stream",
     "text": [
      "<class 'pandas.core.frame.DataFrame'>\n",
      "Index: 99 entries, 0 to 99\n",
      "Data columns (total 6 columns):\n",
      " #   Column         Non-Null Count  Dtype \n",
      "---  ------         --------------  ----- \n",
      " 0   nama_produk    99 non-null     object\n",
      " 1   harga_produk   99 non-null     object\n",
      " 2   penjual        99 non-null     object\n",
      " 3   kota_toko      99 non-null     object\n",
      " 4   terjual        90 non-null     object\n",
      " 5   rating_produk  87 non-null     object\n",
      "dtypes: object(6)\n",
      "memory usage: 5.4+ KB\n"
     ]
    }
   ],
   "source": [
    "# Melakukan cek terhadap duplikat.\n",
    "df.drop_duplicates(inplace=True)\n",
    "df.info()"
   ]
  },
  {
   "cell_type": "markdown",
   "metadata": {},
   "source": [
    "Bisa dilihat jika jumlah entries yang tadinya 100 sekaarang berkurang menjadi 99 setelah 1 data yang duplicate dibuang."
   ]
  },
  {
   "cell_type": "code",
   "execution_count": 27,
   "metadata": {},
   "outputs": [
    {
     "name": "stdout",
     "output_type": "stream",
     "text": [
      "<class 'pandas.core.frame.DataFrame'>\n",
      "Index: 99 entries, 0 to 99\n",
      "Data columns (total 6 columns):\n",
      " #   Column         Non-Null Count  Dtype \n",
      "---  ------         --------------  ----- \n",
      " 0   nama_produk    99 non-null     object\n",
      " 1   harga_produk   99 non-null     object\n",
      " 2   penjual        99 non-null     object\n",
      " 3   kota_toko      99 non-null     object\n",
      " 4   terjual        99 non-null     object\n",
      " 5   rating_produk  99 non-null     object\n",
      "dtypes: object(6)\n",
      "memory usage: 5.4+ KB\n"
     ]
    }
   ],
   "source": [
    "# Handle missing values\n",
    "df[['terjual','rating_produk']] = df[['terjual','rating_produk']].fillna(0)\n",
    "df.info()"
   ]
  },
  {
   "cell_type": "markdown",
   "metadata": {},
   "source": [
    "Setelah missing values diisi menjadi '0' bisa dilihat jika nilai null pada kolom terjual dan rating_produk menjadi hilang."
   ]
  },
  {
   "cell_type": "code",
   "execution_count": 28,
   "metadata": {},
   "outputs": [
    {
     "data": {
      "text/html": [
       "<div>\n",
       "<style scoped>\n",
       "    .dataframe tbody tr th:only-of-type {\n",
       "        vertical-align: middle;\n",
       "    }\n",
       "\n",
       "    .dataframe tbody tr th {\n",
       "        vertical-align: top;\n",
       "    }\n",
       "\n",
       "    .dataframe thead th {\n",
       "        text-align: right;\n",
       "    }\n",
       "</style>\n",
       "<table border=\"1\" class=\"dataframe\">\n",
       "  <thead>\n",
       "    <tr style=\"text-align: right;\">\n",
       "      <th></th>\n",
       "      <th>nama_produk</th>\n",
       "      <th>harga_produk</th>\n",
       "      <th>penjual</th>\n",
       "      <th>kota_toko</th>\n",
       "      <th>terjual</th>\n",
       "      <th>rating_produk</th>\n",
       "    </tr>\n",
       "  </thead>\n",
       "  <tbody>\n",
       "    <tr>\n",
       "      <th>0</th>\n",
       "      <td>Mommy Seblak Basah Instant 100gr</td>\n",
       "      <td>10.000</td>\n",
       "      <td>emmoshop</td>\n",
       "      <td>Kab. Bogor</td>\n",
       "      <td>2000</td>\n",
       "      <td>4.9</td>\n",
       "    </tr>\n",
       "    <tr>\n",
       "      <th>1</th>\n",
       "      <td>Seblak Instan Ceu Nthien Khas Bandung Rasana N...</td>\n",
       "      <td>15.000</td>\n",
       "      <td>Central Seblak Nusantara</td>\n",
       "      <td>Tangerang Selatan</td>\n",
       "      <td>1000</td>\n",
       "      <td>4.9</td>\n",
       "    </tr>\n",
       "    <tr>\n",
       "      <th>2</th>\n",
       "      <td>SEBLAK INSTANT TERMURAH</td>\n",
       "      <td>3.999</td>\n",
       "      <td>Pusat Cuankie &amp; Cemilan Frozen</td>\n",
       "      <td>Jakarta Timur</td>\n",
       "      <td>10000</td>\n",
       "      <td>4.8</td>\n",
       "    </tr>\n",
       "    <tr>\n",
       "      <th>3</th>\n",
       "      <td>seblak instant sajodo snak</td>\n",
       "      <td>19.000</td>\n",
       "      <td>hikmah berkah jaya</td>\n",
       "      <td>Jakarta Barat</td>\n",
       "      <td>750</td>\n",
       "      <td>4.8</td>\n",
       "    </tr>\n",
       "    <tr>\n",
       "      <th>4</th>\n",
       "      <td>SEBLAK VIRAL - SEBLAK INSTANT - SEBLAK RAFAEL ...</td>\n",
       "      <td>8.880</td>\n",
       "      <td>FARADHIFY STORE</td>\n",
       "      <td>Bekasi</td>\n",
       "      <td>100</td>\n",
       "      <td>4.8</td>\n",
       "    </tr>\n",
       "    <tr>\n",
       "      <th>...</th>\n",
       "      <td>...</td>\n",
       "      <td>...</td>\n",
       "      <td>...</td>\n",
       "      <td>...</td>\n",
       "      <td>...</td>\n",
       "      <td>...</td>\n",
       "    </tr>\n",
       "    <tr>\n",
       "      <th>95</th>\n",
       "      <td>cuanki tahu pasung isi 50 murah batagor kering...</td>\n",
       "      <td>12.000</td>\n",
       "      <td>CuankiCulametan</td>\n",
       "      <td>Kab. Garut</td>\n",
       "      <td>100</td>\n",
       "      <td>4.9</td>\n",
       "    </tr>\n",
       "    <tr>\n",
       "      <th>96</th>\n",
       "      <td>KERUPUK SEBLAK 250gr / KRUPUK SEBLAK DAUN JERU...</td>\n",
       "      <td>12.500</td>\n",
       "      <td>Dapur Sehat21</td>\n",
       "      <td>Kab. Bandung</td>\n",
       "      <td>100</td>\n",
       "      <td>4.9</td>\n",
       "    </tr>\n",
       "    <tr>\n",
       "      <th>97</th>\n",
       "      <td>Kerupuk Orange / Kerupuk Seblak 250gr / Kerupu...</td>\n",
       "      <td>7.500</td>\n",
       "      <td>BawangBagus</td>\n",
       "      <td>Tangerang</td>\n",
       "      <td>5</td>\n",
       "      <td>0</td>\n",
       "    </tr>\n",
       "    <tr>\n",
       "      <th>98</th>\n",
       "      <td>Seblak kuah instan , Seblak khas garut b</td>\n",
       "      <td>5.000</td>\n",
       "      <td>iwan resistans leather 2</td>\n",
       "      <td>Kab. Garut</td>\n",
       "      <td>500</td>\n",
       "      <td>4.9</td>\n",
       "    </tr>\n",
       "    <tr>\n",
       "      <th>99</th>\n",
       "      <td>Paket seblak sosis untuk 3 porsi</td>\n",
       "      <td>29.000</td>\n",
       "      <td>Tukangsayurmbakyu</td>\n",
       "      <td>Tangerang Selatan</td>\n",
       "      <td>8</td>\n",
       "      <td>5.0</td>\n",
       "    </tr>\n",
       "  </tbody>\n",
       "</table>\n",
       "<p>99 rows × 6 columns</p>\n",
       "</div>"
      ],
      "text/plain": [
       "                                          nama_produk harga_produk  \\\n",
       "0                    Mommy Seblak Basah Instant 100gr       10.000   \n",
       "1   Seblak Instan Ceu Nthien Khas Bandung Rasana N...       15.000   \n",
       "2                             SEBLAK INSTANT TERMURAH        3.999   \n",
       "3                          seblak instant sajodo snak       19.000   \n",
       "4   SEBLAK VIRAL - SEBLAK INSTANT - SEBLAK RAFAEL ...        8.880   \n",
       "..                                                ...          ...   \n",
       "95  cuanki tahu pasung isi 50 murah batagor kering...       12.000   \n",
       "96  KERUPUK SEBLAK 250gr / KRUPUK SEBLAK DAUN JERU...       12.500   \n",
       "97  Kerupuk Orange / Kerupuk Seblak 250gr / Kerupu...        7.500   \n",
       "98           Seblak kuah instan , Seblak khas garut b        5.000   \n",
       "99                   Paket seblak sosis untuk 3 porsi       29.000   \n",
       "\n",
       "                           penjual          kota_toko terjual rating_produk  \n",
       "0                         emmoshop         Kab. Bogor    2000           4.9  \n",
       "1         Central Seblak Nusantara  Tangerang Selatan    1000           4.9  \n",
       "2   Pusat Cuankie & Cemilan Frozen      Jakarta Timur   10000           4.8  \n",
       "3               hikmah berkah jaya      Jakarta Barat     750           4.8  \n",
       "4                  FARADHIFY STORE             Bekasi     100           4.8  \n",
       "..                             ...                ...     ...           ...  \n",
       "95                 CuankiCulametan         Kab. Garut     100           4.9  \n",
       "96                   Dapur Sehat21       Kab. Bandung     100           4.9  \n",
       "97                     BawangBagus          Tangerang       5             0  \n",
       "98        iwan resistans leather 2         Kab. Garut     500           4.9  \n",
       "99               Tukangsayurmbakyu  Tangerang Selatan       8           5.0  \n",
       "\n",
       "[99 rows x 6 columns]"
      ]
     },
     "execution_count": 28,
     "metadata": {},
     "output_type": "execute_result"
    }
   ],
   "source": [
    "# Handle character\n",
    "cols = ['harga_produk','terjual','rating_produk']\n",
    "df[cols] = df[cols].replace({'\\+':'','Terjual':'','Rp':'',' rb':'000'}, regex=True)\n",
    "df"
   ]
  },
  {
   "cell_type": "markdown",
   "metadata": {},
   "source": [
    "Proses ini dilakukan untuk menghilangkan character-character yang dapat membuat gangguaan saat memproses data seperti char '+','rb' dsb."
   ]
  },
  {
   "cell_type": "code",
   "execution_count": 29,
   "metadata": {},
   "outputs": [],
   "source": [
    "# Mengubah Dtype\n",
    "df['terjual'] = df['terjual'].astype(int)\n",
    "df['rating_produk'] = df['rating_produk'].astype(float)"
   ]
  },
  {
   "cell_type": "code",
   "execution_count": 30,
   "metadata": {},
   "outputs": [
    {
     "name": "stdout",
     "output_type": "stream",
     "text": [
      "<class 'pandas.core.frame.DataFrame'>\n",
      "Index: 99 entries, 0 to 99\n",
      "Data columns (total 6 columns):\n",
      " #   Column         Non-Null Count  Dtype  \n",
      "---  ------         --------------  -----  \n",
      " 0   nama_produk    99 non-null     object \n",
      " 1   harga_produk   99 non-null     int32  \n",
      " 2   penjual        99 non-null     object \n",
      " 3   kota_toko      99 non-null     object \n",
      " 4   terjual        99 non-null     int32  \n",
      " 5   rating_produk  99 non-null     float64\n",
      "dtypes: float64(1), int32(2), object(3)\n",
      "memory usage: 4.6+ KB\n"
     ]
    }
   ],
   "source": [
    "# Mengubah Dtype\n",
    "df['harga_produk'] = df['harga_produk'].str.replace('.', '').astype(int)\n",
    "df.info()"
   ]
  },
  {
   "cell_type": "markdown",
   "metadata": {},
   "source": [
    "Bisa dilihat setelah proses penggantian Dtype, Dtype yang tadinya semuanya merupakan object sekarang sudah sesuai dengan semestinya."
   ]
  },
  {
   "cell_type": "markdown",
   "metadata": {},
   "source": [
    "# C. Business Understanding/Problem Statement"
   ]
  },
  {
   "cell_type": "markdown",
   "metadata": {},
   "source": [
    "### SMART Framework\n",
    "\n",
    "Case : Saya ingin menjalankan skema dropship menjual seblak namun masih belum yakin dan masih ingin mengetahui bagaimana penjualan seblak, apakah penjualannya tinggi, apakah banyak orang yang suka dsb.\n",
    "\n",
    "- Specific : Saya ingin meningkatkan pendapatan dengan menjalankan bisnis dropshipping seblak.\n",
    "\n",
    "- Measurable : Meningkatkan pendapatan sebesar 20%.\n",
    "\n",
    "- Achievable : Dengan melakukan dropshipping, miningkatkan pendapatan sebesar 20% dapat dicapai.\n",
    "\n",
    "- Relevant : Dengan melakukan dropshipping, hasil keuntungan yang didapat sudah jelas akan berpengaruh dengan tingkat pendapatan saya.\n",
    "\n",
    "- Time-Bound : Target saya untuk menambah pendapatan dengan melakukan drop shipping dapat dilakukan dalam 6 bulan.\n",
    "\n",
    "Saya ingin meningktakan pendapatan pribadi sebesar 20% dengan melakukan dropshipping produk seblak dalam rentan waktu 6 bulan. \n",
    "\n"
   ]
  },
  {
   "cell_type": "markdown",
   "metadata": {},
   "source": [
    "# D. Analysis"
   ]
  },
  {
   "cell_type": "markdown",
   "metadata": {},
   "source": [
    "### 1. Mencari tahu nilai Mean, Median, Standar Deviasi, Skewness dan Kurtosis dari harga produk, rating produk dan banyak terjual produk seblak"
   ]
  },
  {
   "cell_type": "code",
   "execution_count": 31,
   "metadata": {},
   "outputs": [
    {
     "name": "stdout",
     "output_type": "stream",
     "text": [
      "mean dari data adalah = 22498.272727272728\n",
      "median dari data adalah = 15000.0\n",
      "standar deviasi dari data adalah = 22386.53645168032\n",
      "Skewness = 2.349647081443584\n",
      "Kurtosis = 5.593387188273972\n"
     ]
    }
   ],
   "source": [
    "# Harga Produk\n",
    "print('mean dari data adalah =',df.harga_produk.mean())\n",
    "print('median dari data adalah =',df.harga_produk.median())\n",
    "print('standar deviasi dari data adalah =',df.harga_produk.std())\n",
    "print(\"Skewness =\", df.harga_produk.skew())\n",
    "print(\"Kurtosis =\", df.harga_produk.kurtosis())\n"
   ]
  },
  {
   "cell_type": "markdown",
   "metadata": {},
   "source": [
    "Kesimpulan dari perhitungan data harga produk yang didapat adalah :\n",
    "- Nilai std deviasi bisa dibilang baik karena nilai std deviasi lebih kecil dari  nilai mean.\n",
    "- Tingkat skewness termasuk highly skewed karena nilai lebih dari 1.\n",
    "- Nilai kurtosis masuk kedalam Leptokurtic karena nilai > 3."
   ]
  },
  {
   "cell_type": "code",
   "execution_count": 32,
   "metadata": {},
   "outputs": [
    {
     "name": "stdout",
     "output_type": "stream",
     "text": [
      "mean dari data adalah = 426.5050505050505\n",
      "median dari data adalah = 70.0\n",
      "standar deviasi dari data adalah = 1462.1102541813991\n",
      "Skewness = 5.9303355518438705\n",
      "Kurtosis = 36.93851708986021\n"
     ]
    }
   ],
   "source": [
    "# Terjual\n",
    "print('mean dari data adalah =',df.terjual.mean())\n",
    "print('median dari data adalah =',df.terjual.median())\n",
    "print('standar deviasi dari data adalah =',df.terjual.std())\n",
    "print(\"Skewness =\", df.terjual.skew())\n",
    "print(\"Kurtosis =\", df.terjual.kurtosis())"
   ]
  },
  {
   "cell_type": "markdown",
   "metadata": {},
   "source": [
    "Kesimpulan dari perhitungan data terjual yang didapat adalah :\n",
    "- Data yang didapat memiliki variasi yang tinggi dan lumayan tersebar karena nilai std deviasi lebih besar dari nilai mean.\n",
    "- Tingkat skewness termasuk highly skewed karena nilai lebih dari 1.\n",
    "- Nilai kurtosis masuk kedalam Leptokurtic karena nilai > 3."
   ]
  },
  {
   "cell_type": "code",
   "execution_count": 33,
   "metadata": {},
   "outputs": [
    {
     "name": "stdout",
     "output_type": "stream",
     "text": [
      "mean dari data adalah = 4.312121212121212\n",
      "median dari data adalah = 4.9\n",
      "standar deviasi dari data adalah = 1.6125320896837188\n",
      "Skewness = -2.3406167494140644\n",
      "Kurtosis = 3.5831025050624046\n"
     ]
    }
   ],
   "source": [
    "# Rating Produk\n",
    "print('mean dari data adalah =',df.rating_produk.mean())\n",
    "print('median dari data adalah =',df.rating_produk.median())\n",
    "print('standar deviasi dari data adalah =',df.rating_produk.std())\n",
    "print(\"Skewness =\", df.rating_produk.skew())\n",
    "print(\"Kurtosis =\", df.rating_produk.kurtosis())"
   ]
  },
  {
   "cell_type": "markdown",
   "metadata": {},
   "source": [
    "Kesimpulan dari perhitungan data rating produk yang didapat adalah :\n",
    "- Nilai std deviasi bisa dibilang baik karena nilai std deviasi lebih kecil dari  nilai mean.\n",
    "- Tingkat skewness termasuk highly skewed karena nilai lebih dari -1.\n",
    "- Nilai kurtosis masuk kedalam Mesokurtic karena nilai = 3."
   ]
  },
  {
   "cell_type": "markdown",
   "metadata": {},
   "source": [
    "### 2. Mencari tahu potensi pendapatan tertinggi hingga terendah dari penjualan produk seblak."
   ]
  },
  {
   "cell_type": "code",
   "execution_count": 74,
   "metadata": {},
   "outputs": [
    {
     "name": "stdout",
     "output_type": "stream",
     "text": [
      "Lower Limit: 138.49302816680586\n",
      "Upper Limit: 714.5170728432952\n"
     ]
    }
   ],
   "source": [
    "# Import Library\n",
    "from scipy import stats\n",
    "import numpy as np\n",
    "\n",
    "# Mencari Upper dan Lower dari penjualan\n",
    "std = df['terjual'].std()\n",
    "N = len(df)\n",
    "low, up = stats.norm.interval(0.95,loc=df['terjual'].mean(),scale=std/np.sqrt(N))\n",
    "print('Lower Limit:',low)\n",
    "print('Upper Limit:',up)"
   ]
  },
  {
   "cell_type": "markdown",
   "metadata": {},
   "source": [
    "Bisa dilihat jika produk seblak akan terjual paling sedikit sebanyak 138 dan paling banyak akan mencapai 714 produk terjual."
   ]
  },
  {
   "cell_type": "code",
   "execution_count": 84,
   "metadata": {},
   "outputs": [
    {
     "name": "stdout",
     "output_type": "stream",
     "text": [
      "Perkiraan Minimal Keuntungan adalah = 3115853.918522662\n",
      "Perkiraan Maksimal Keuntungan adalah = 16075399.973121049\n"
     ]
    }
   ],
   "source": [
    "# Hassil lower dan upper dikalikan dengan rata-rata harga produk\n",
    "Minimal_Keuntungan = df.harga_produk.mean()*low\n",
    "print('Perkiraan Minimal Keuntungan adalah =', Minimal_Keuntungan)\n",
    "Maksimal_Keuntungan = df.harga_produk.mean()*up\n",
    "print('Perkiraan Maksimal Keuntungan adalah =', Maksimal_Keuntungan)\n"
   ]
  },
  {
   "cell_type": "markdown",
   "metadata": {},
   "source": [
    "Setelah mengetahui berapa banyak produk yang bisa terjual maka hasil tersebut dikalikan dengan rata-rata harga produk yang menghasilkan perkiraan pendapatan minimal sebesar Rp3.115.853 dan perkiraan paling besar yaitu Rp16.075.399"
   ]
  },
  {
   "cell_type": "markdown",
   "metadata": {},
   "source": [
    "### 3. Perbandingan harga penjualan produk seblak di Jabodetabek dan di luar Jabodetabek."
   ]
  },
  {
   "cell_type": "markdown",
   "metadata": {},
   "source": [
    "Hipotesis\n",
    "- H0 = Harga Produk di Jabodetabek == Non-Jabodetabek.\n",
    "- H1 = Harga Produk di Jabodetabek != Non-Jabodetabek.\n",
    "\n",
    "\n",
    "Dari case tersebut maka saya akan melakukan test melakukan Two-Sample Independent Test karena ingin melakukan perbandingan terhadap 2 variabel yang tidak saling berkegantungan."
   ]
  },
  {
   "cell_type": "code",
   "execution_count": 69,
   "metadata": {},
   "outputs": [
    {
     "data": {
      "text/html": [
       "<div>\n",
       "<style scoped>\n",
       "    .dataframe tbody tr th:only-of-type {\n",
       "        vertical-align: middle;\n",
       "    }\n",
       "\n",
       "    .dataframe tbody tr th {\n",
       "        vertical-align: top;\n",
       "    }\n",
       "\n",
       "    .dataframe thead th {\n",
       "        text-align: right;\n",
       "    }\n",
       "</style>\n",
       "<table border=\"1\" class=\"dataframe\">\n",
       "  <thead>\n",
       "    <tr style=\"text-align: right;\">\n",
       "      <th></th>\n",
       "      <th>nama_produk</th>\n",
       "      <th>harga_produk</th>\n",
       "      <th>penjual</th>\n",
       "      <th>kota_toko</th>\n",
       "      <th>terjual</th>\n",
       "      <th>rating_produk</th>\n",
       "    </tr>\n",
       "  </thead>\n",
       "  <tbody>\n",
       "    <tr>\n",
       "      <th>0</th>\n",
       "      <td>Mommy Seblak Basah Instant 100gr</td>\n",
       "      <td>10000</td>\n",
       "      <td>emmoshop</td>\n",
       "      <td>Kab. Bogor</td>\n",
       "      <td>2000</td>\n",
       "      <td>4.9</td>\n",
       "    </tr>\n",
       "    <tr>\n",
       "      <th>1</th>\n",
       "      <td>Seblak Instan Ceu Nthien Khas Bandung Rasana N...</td>\n",
       "      <td>15000</td>\n",
       "      <td>Central Seblak Nusantara</td>\n",
       "      <td>Tangerang Selatan</td>\n",
       "      <td>1000</td>\n",
       "      <td>4.9</td>\n",
       "    </tr>\n",
       "    <tr>\n",
       "      <th>2</th>\n",
       "      <td>SEBLAK INSTANT TERMURAH</td>\n",
       "      <td>3999</td>\n",
       "      <td>Pusat Cuankie &amp; Cemilan Frozen</td>\n",
       "      <td>Jakarta Timur</td>\n",
       "      <td>10000</td>\n",
       "      <td>4.8</td>\n",
       "    </tr>\n",
       "    <tr>\n",
       "      <th>3</th>\n",
       "      <td>seblak instant sajodo snak</td>\n",
       "      <td>19000</td>\n",
       "      <td>hikmah berkah jaya</td>\n",
       "      <td>Jakarta Barat</td>\n",
       "      <td>750</td>\n",
       "      <td>4.8</td>\n",
       "    </tr>\n",
       "    <tr>\n",
       "      <th>4</th>\n",
       "      <td>SEBLAK VIRAL - SEBLAK INSTANT - SEBLAK RAFAEL ...</td>\n",
       "      <td>8880</td>\n",
       "      <td>FARADHIFY STORE</td>\n",
       "      <td>Bekasi</td>\n",
       "      <td>100</td>\n",
       "      <td>4.8</td>\n",
       "    </tr>\n",
       "  </tbody>\n",
       "</table>\n",
       "</div>"
      ],
      "text/plain": [
       "                                         nama_produk  harga_produk  \\\n",
       "0                   Mommy Seblak Basah Instant 100gr         10000   \n",
       "1  Seblak Instan Ceu Nthien Khas Bandung Rasana N...         15000   \n",
       "2                            SEBLAK INSTANT TERMURAH          3999   \n",
       "3                         seblak instant sajodo snak         19000   \n",
       "4  SEBLAK VIRAL - SEBLAK INSTANT - SEBLAK RAFAEL ...          8880   \n",
       "\n",
       "                          penjual          kota_toko  terjual  rating_produk  \n",
       "0                        emmoshop         Kab. Bogor     2000            4.9  \n",
       "1        Central Seblak Nusantara  Tangerang Selatan     1000            4.9  \n",
       "2  Pusat Cuankie & Cemilan Frozen      Jakarta Timur    10000            4.8  \n",
       "3              hikmah berkah jaya      Jakarta Barat      750            4.8  \n",
       "4                 FARADHIFY STORE             Bekasi      100            4.8  "
      ]
     },
     "execution_count": 69,
     "metadata": {},
     "output_type": "execute_result"
    }
   ],
   "source": [
    "# Slicing kota yang termasuk di Jabodetabek\n",
    "cities = ['Kab. Bogor', 'Tangerang Selatan', 'Jakarta Timur', 'Jakarta Barat', 'Bekasi',\n",
    "          'Jakarta Selatan', 'Kab. Bekasi', 'Kab. Tangerang', 'Jakarta Utara', 'Jakarta Pusat', 'Tangerang', 'Depok']\n",
    "Jabodetabek = df[df['kota_toko'].isin(cities)]\n",
    "\n",
    "Jabodetabek.head()"
   ]
  },
  {
   "cell_type": "code",
   "execution_count": 71,
   "metadata": {},
   "outputs": [
    {
     "data": {
      "text/html": [
       "<div>\n",
       "<style scoped>\n",
       "    .dataframe tbody tr th:only-of-type {\n",
       "        vertical-align: middle;\n",
       "    }\n",
       "\n",
       "    .dataframe tbody tr th {\n",
       "        vertical-align: top;\n",
       "    }\n",
       "\n",
       "    .dataframe thead th {\n",
       "        text-align: right;\n",
       "    }\n",
       "</style>\n",
       "<table border=\"1\" class=\"dataframe\">\n",
       "  <thead>\n",
       "    <tr style=\"text-align: right;\">\n",
       "      <th></th>\n",
       "      <th>nama_produk</th>\n",
       "      <th>harga_produk</th>\n",
       "      <th>penjual</th>\n",
       "      <th>kota_toko</th>\n",
       "      <th>terjual</th>\n",
       "      <th>rating_produk</th>\n",
       "    </tr>\n",
       "  </thead>\n",
       "  <tbody>\n",
       "    <tr>\n",
       "      <th>5</th>\n",
       "      <td>SEBRING KRUPUK KERUPUK SEBLAK KERING PEDAS DAU...</td>\n",
       "      <td>16000</td>\n",
       "      <td>Aydaa Snack</td>\n",
       "      <td>Surakarta</td>\n",
       "      <td>40</td>\n",
       "      <td>4.9</td>\n",
       "    </tr>\n",
       "    <tr>\n",
       "      <th>8</th>\n",
       "      <td>GURILEM MINI 1KG Siomay Kering Toping Baso Aci...</td>\n",
       "      <td>29999</td>\n",
       "      <td>Pedas Gilaa</td>\n",
       "      <td>Surabaya</td>\n",
       "      <td>500</td>\n",
       "      <td>4.9</td>\n",
       "    </tr>\n",
       "    <tr>\n",
       "      <th>10</th>\n",
       "      <td>Kerupuk Seblak</td>\n",
       "      <td>20000</td>\n",
       "      <td>Jajanan Wawa</td>\n",
       "      <td>Kab. Purwakarta</td>\n",
       "      <td>0</td>\n",
       "      <td>0.0</td>\n",
       "    </tr>\n",
       "    <tr>\n",
       "      <th>12</th>\n",
       "      <td>seblak Noni noni</td>\n",
       "      <td>41500</td>\n",
       "      <td>Basrengsikembar</td>\n",
       "      <td>Kab. Bandung</td>\n",
       "      <td>2</td>\n",
       "      <td>0.0</td>\n",
       "    </tr>\n",
       "    <tr>\n",
       "      <th>13</th>\n",
       "      <td>SUKRO CIKUR RENYAH NGEPROS isi 1KG Pelengkap B...</td>\n",
       "      <td>31999</td>\n",
       "      <td>gaiagarut</td>\n",
       "      <td>Kab. Garut</td>\n",
       "      <td>60</td>\n",
       "      <td>5.0</td>\n",
       "    </tr>\n",
       "  </tbody>\n",
       "</table>\n",
       "</div>"
      ],
      "text/plain": [
       "                                          nama_produk  harga_produk  \\\n",
       "5   SEBRING KRUPUK KERUPUK SEBLAK KERING PEDAS DAU...         16000   \n",
       "8   GURILEM MINI 1KG Siomay Kering Toping Baso Aci...         29999   \n",
       "10                                     Kerupuk Seblak         20000   \n",
       "12                                   seblak Noni noni         41500   \n",
       "13  SUKRO CIKUR RENYAH NGEPROS isi 1KG Pelengkap B...         31999   \n",
       "\n",
       "            penjual        kota_toko  terjual  rating_produk  \n",
       "5       Aydaa Snack        Surakarta       40            4.9  \n",
       "8       Pedas Gilaa         Surabaya      500            4.9  \n",
       "10     Jajanan Wawa  Kab. Purwakarta        0            0.0  \n",
       "12  Basrengsikembar     Kab. Bandung        2            0.0  \n",
       "13        gaiagarut       Kab. Garut       60            5.0  "
      ]
     },
     "execution_count": 71,
     "metadata": {},
     "output_type": "execute_result"
    }
   ],
   "source": [
    "# Slicing kota yang tidak termasuk di Jabodetabek\n",
    "Luar_Jabodetabek = df[~df['kota_toko'].isin(cities)]\n",
    "\n",
    "Luar_Jabodetabek.head()"
   ]
  },
  {
   "cell_type": "code",
   "execution_count": 68,
   "metadata": {},
   "outputs": [
    {
     "name": "stdout",
     "output_type": "stream",
     "text": [
      "T-Statistic: -0.15818680663460305\n",
      "P-value: 0.8746384524490391\n"
     ]
    }
   ],
   "source": [
    "# Mencari T-Stat dan P-Value\n",
    "t_stat, p_val = stats.ttest_ind(Jabodetabek['harga_produk'], Luar_Jabodetabek['harga_produk'])\n",
    "\n",
    "print('T-Statistic:', t_stat)\n",
    "print('P-value:', p_val)"
   ]
  },
  {
   "cell_type": "markdown",
   "metadata": {},
   "source": [
    "Dari hasil perhitungan yang didapat dapat disimpulkan bahwa, karena P-value lebih dari 0.05 maka H0 diterima yang berarti harga produk di jabodetabek dan non_jabodetabek tidak memiliki perbedaan yang signifikan."
   ]
  },
  {
   "cell_type": "markdown",
   "metadata": {},
   "source": [
    "### 4. Mencari tahu apakah harga seblak yang murah berpengaruh terhadap keputusan seseorang untuk membeli seblak."
   ]
  },
  {
   "cell_type": "markdown",
   "metadata": {},
   "source": [
    "Hipotesis\n",
    "- H0 = Tidak ada korelasi antara harga dengan jumlah pembeli.\n",
    "- H1 = Ada korelasi anatara harga dengan jumlah pembeli.\n",
    "\n",
    "Dalam case ini saya melakukan test korelasi menggunakan teknik Pearson karena kedua variabel bisa dibilang linear dan memiliki tingkat distribusi yang normal."
   ]
  },
  {
   "cell_type": "code",
   "execution_count": 75,
   "metadata": {},
   "outputs": [
    {
     "name": "stdout",
     "output_type": "stream",
     "text": [
      "r-correlation: -0.07, p-value: 0.47958728775050696\n"
     ]
    }
   ],
   "source": [
    "corr_r, pval_p = stats.pearsonr(df['harga_produk'], df['terjual'])\n",
    "\n",
    "print(f\"r-correlation: {corr_r:.2f}, p-value: {pval_p}\")"
   ]
  },
  {
   "cell_type": "markdown",
   "metadata": {},
   "source": [
    "Dari hasil yang sudah didapatkan menunjukan nilai r-correlation -0.07 maka harga yang murah tidak berpengaruh signifikan dalam tingkat pembelian seblak dan nilai p-value sebesar 0.47 dimana hasil tersebut tidak cukup kuat untuk menolak hipotesis H0."
   ]
  },
  {
   "cell_type": "markdown",
   "metadata": {},
   "source": [
    "# E. Conclusion"
   ]
  },
  {
   "cell_type": "markdown",
   "metadata": {},
   "source": [
    "Dari keseluruhan hasil yang didapat dapat diambil kesimpulan bahwa:\n",
    "- Harga jual produk seblak memiliki harga yang bervariatif namun tetap pada range harga tertentu.\n",
    "- Keseluruhan penjualan produk seblak cukup tinggi namun memiliki persebaran tingkat penjualan yang sangat bervariatif mulai dari sangat banyak, banyak hingga sedikit yang terjual atau bahkan belum terjual sama sekali.\n",
    "- Kebanyakan orang menyukai produk seblak karena secara keseluruhan rata-rata penilaian orang terhadap seblak cukup baik.\n",
    "- Potensi pendapatan maksimal dan minimal dari penjualan produk seblak mempunyai perbedaan yang signifikan begitupun dengan tingkat low dan up penjualannya. Namun secara keseluruhan jumlah penjualan produk seblak bisa dibilang cukup tinggi.\n",
    "- Harga jual produk seblak cenderung sama dan tidak memiliki perbedaan yang sginifikan walaupun dijual dari kota yang berada di luar pulau jawa sekalipun.\n",
    "- Harga jual seblak yang murah tidak memiliki pengaruh signifikan terhadap tingkat pembelian seblak, itu menunjukan memang produk seblak banyak digemari oleh orang-orang khusunya di Indonesia.\n",
    "\n",
    "\n",
    "Dari beberapa kesimpulan tersebut jika kita kembali pada case SMART diatas, dengan menjalankan dropshiping seblak merupakan langkah yang pas jika ingin menambah uang saku karena daya beli produk seblak yang cukup besar, jangkauan pembeli yang luas dan harga yang bervariatif."
   ]
  }
 ],
 "metadata": {
  "kernelspec": {
   "display_name": "base",
   "language": "python",
   "name": "python3"
  },
  "language_info": {
   "codemirror_mode": {
    "name": "ipython",
    "version": 3
   },
   "file_extension": ".py",
   "mimetype": "text/x-python",
   "name": "python",
   "nbconvert_exporter": "python",
   "pygments_lexer": "ipython3",
   "version": "3.9.17"
  },
  "orig_nbformat": 4
 },
 "nbformat": 4,
 "nbformat_minor": 2
}
